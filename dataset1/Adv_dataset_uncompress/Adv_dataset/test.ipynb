{
 "cells": [
  {
   "cell_type": "code",
   "execution_count": 2,
   "id": "d1243f69",
   "metadata": {},
   "outputs": [],
   "source": [
    "import aspose.pdf as ap\n",
    "\n",
    "input_pdf = \"input.pdf\"\n",
    "output_tex = \"pdf_to_tex.tex\"\n",
    "\n",
    "# Open PDF file\n",
    "document = ap.Document(input_pdf)\n",
    "\n",
    "# Create an object of LaTeXSaveOptions class\n",
    "saveOptions = ap.LaTeXSaveOptions()\n",
    "\n",
    "# Save PDF as TEX\n",
    "document.save(output_tex, saveOptions)"
   ]
  },
  {
   "cell_type": "code",
   "execution_count": null,
   "id": "2d05a354",
   "metadata": {},
   "outputs": [],
   "source": []
  }
 ],
 "metadata": {
  "kernelspec": {
   "display_name": "Python 3",
   "language": "python",
   "name": "python3"
  },
  "language_info": {
   "codemirror_mode": {
    "name": "ipython",
    "version": 3
   },
   "file_extension": ".py",
   "mimetype": "text/x-python",
   "name": "python",
   "nbconvert_exporter": "python",
   "pygments_lexer": "ipython3",
   "version": "3.10.2"
  }
 },
 "nbformat": 4,
 "nbformat_minor": 5
}
